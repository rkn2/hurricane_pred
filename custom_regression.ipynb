{
 "cells": [
  {
   "cell_type": "code",
   "execution_count": 1,
   "outputs": [
    {
     "name": "stderr",
     "output_type": "stream",
     "text": [
      "pandas.Int64Index is deprecated and will be removed from pandas in a future version. Use pandas.Index with the appropriate dtype instead.\n"
     ]
    }
   ],
   "source": [
    "# pip install mljar-supervised\n",
    "#or\n",
    "# conda install -c conda-forge mljar-supervised\n",
    "# pip install requests\n",
    "\n",
    "import requests\n",
    "import re\n",
    "import pandas as pd\n",
    "from sklearn.model_selection import train_test_split\n",
    "from supervised.automl import AutoML\n",
    "\n",
    "\n"
   ],
   "metadata": {
    "collapsed": false,
    "pycharm": {
     "name": "#%%\n"
    }
   }
  },
  {
   "cell_type": "code",
   "execution_count": 2,
   "outputs": [],
   "source": [
    "#get data\n",
    "url = 'https://pennstateoffice365-my.sharepoint.com/:x:/g/personal/rjn5308_psu_edu/EZ-qWOeA5jxNkKXpwdWk_CoB-rCxrvsYcdhHaqzLfWruAQ?e=6inkuL&download=1'\n",
    "r = requests.get(url)\n",
    "r.status_code\n",
    "\n",
    "with open('data.csv', 'w') as fid:\n",
    "    fid.write(r.text)\n",
    "\n",
    "#read data into pandas and view\n",
    "data = pd.read_csv('data_og.csv')"
   ],
   "metadata": {
    "collapsed": false,
    "pycharm": {
     "name": "#%%\n"
    }
   }
  },
  {
   "cell_type": "code",
   "execution_count": 4,
   "outputs": [],
   "source": [
    "# on plane\n",
    "#read data into pandas and view\n",
    "data = pd.read_csv('data_og.csv')"
   ],
   "metadata": {
    "collapsed": false,
    "pycharm": {
     "name": "#%%\n"
    }
   }
  },
  {
   "cell_type": "code",
   "execution_count": 5,
   "outputs": [],
   "source": [
    "data = data.rename(columns = lambda x:re.sub('[^A-Za-z0-9_]+', '', x)) # issue with json\n",
    "data.fillna(method=\"ffill\", inplace=True)\n",
    "#data.dropna(inplace=True) # NEW"
   ],
   "metadata": {
    "collapsed": false,
    "pycharm": {
     "name": "#%%\n"
    }
   }
  },
  {
   "cell_type": "code",
   "execution_count": 6,
   "outputs": [],
   "source": [
    "y = data['status']\n",
    "#X = data.drop('status', axis=1, inplace=False)\n",
    "\n",
    "X = data\n",
    "dropList = ['wind_damage_rating', 'surge_damage_rating', 'rainwater_ingress_damage_rating', 'Unnamed0', 'longitude', 'status']\n",
    "for each in dropList:\n",
    "    X = X.drop(each, axis=1)"
   ],
   "metadata": {
    "collapsed": false,
    "pycharm": {
     "name": "#%%\n"
    }
   }
  },
  {
   "cell_type": "code",
   "execution_count": 16,
   "outputs": [
    {
     "data": {
      "text/plain": "Index(['Buildinglat', 'hazards_present', 'building_type', 'number_of_stories',\n       'understory_pct_of_building_footprint', 'year_built', 'roof_shape',\n       'mwfrs', 'foundation_type', 'wall_structure', 'wall_substrate',\n       'wall_cladding', 'roof_system', 'roof_substrate_type', 'roof_cover',\n       'Buildinglong', 'mindist'],\n      dtype='object')"
     },
     "execution_count": 16,
     "metadata": {},
     "output_type": "execute_result"
    }
   ],
   "source": [
    "X.columns"
   ],
   "metadata": {
    "collapsed": false,
    "pycharm": {
     "name": "#%%\n"
    }
   }
  },
  {
   "cell_type": "code",
   "execution_count": 7,
   "outputs": [],
   "source": [
    "# X.describe()\n",
    "X_train, X_test, y_train, y_test = train_test_split(X, y,test_size=0.2, random_state=42, stratify=y)"
   ],
   "metadata": {
    "collapsed": false,
    "pycharm": {
     "name": "#%%\n"
    }
   }
  },
  {
   "cell_type": "code",
   "execution_count": 8,
   "outputs": [
    {
     "data": {
      "text/plain": "<AxesSubplot:>"
     },
     "execution_count": 8,
     "metadata": {},
     "output_type": "execute_result"
    },
    {
     "data": {
      "text/plain": "<Figure size 432x288 with 1 Axes>",
      "image/png": "[encoded data removed]"
     },
     "metadata": {
      "needs_background": "light"
     },
     "output_type": "display_data"
    }
   ],
   "source": [
    "y_train.value_counts().plot(kind='bar',color='green')\n",
    "y_test.value_counts().plot(kind='bar', color='blue')"
   ],
   "metadata": {
    "collapsed": false,
    "pycharm": {
     "name": "#%%\n"
    }
   }
  },
  {
   "cell_type": "code",
   "execution_count": 9,
   "outputs": [
    {
     "name": "stdout",
     "output_type": "stream",
     "text": [
      "AutoML directory: 2022_8_5_full-class\n",
      "The task is multiclass_classification with evaluation metric logloss\n",
      "AutoML will use algorithms: ['Baseline', 'Linear', 'Decision Tree', 'Random Forest', 'Xgboost', 'Neural Network']\n",
      "AutoML will stack models\n",
      "AutoML will ensemble available models\n",
      "AutoML steps: ['simple_algorithms', 'default_algorithms', 'mix_encoding', 'golden_features', 'insert_random_feature', 'features_selection', 'hill_climbing_1', 'hill_climbing_2', 'ensemble', 'stack', 'ensemble_stacked']\n",
      "* Step simple_algorithms will try to check up to 3 models\n",
      "1_Baseline logloss 1.501979 trained in 0.67 seconds\n"
     ]
    },
    {
     "name": "stderr",
     "output_type": "stream",
     "text": [
      "pandas.Int64Index is deprecated and will be removed from pandas in a future version. Use pandas.Index with the appropriate dtype instead.\n",
      "pandas.Int64Index is deprecated and will be removed from pandas in a future version. Use pandas.Index with the appropriate dtype instead.\n",
      "pandas.Int64Index is deprecated and will be removed from pandas in a future version. Use pandas.Index with the appropriate dtype instead.\n",
      "pandas.Int64Index is deprecated and will be removed from pandas in a future version. Use pandas.Index with the appropriate dtype instead.\n",
      "pandas.Int64Index is deprecated and will be removed from pandas in a future version. Use pandas.Index with the appropriate dtype instead.\n",
      "pandas.Int64Index is deprecated and will be removed from pandas in a future version. Use pandas.Index with the appropriate dtype instead.\n",
      "pandas.Int64Index is deprecated and will be removed from pandas in a future version. Use pandas.Index with the appropriate dtype instead.\n",
      "pandas.Int64Index is deprecated and will be removed from pandas in a future version. Use pandas.Index with the appropriate dtype instead.\n"
     ]
    },
    {
     "name": "stdout",
     "output_type": "stream",
     "text": [
      "2_DecisionTree logloss 1.586101 trained in 37.26 seconds\n",
      "3_Linear logloss 1.390655 trained in 26.43 seconds\n",
      "* Step default_algorithms will try to check up to 3 models\n",
      "4_Default_Xgboost logloss 1.184888 trained in 39.95 seconds\n",
      "5_Default_NeuralNetwork logloss 2.052843 trained in 10.07 seconds\n",
      "6_Default_RandomForest logloss 1.199217 trained in 37.11 seconds\n",
      "* Step mix_encoding will try to check up to 1 model\n",
      "Exception while producing SHAP explanations. feature_names must be string, and may not contain [, ] or <\n",
      "Continuing ...\n",
      "Exception while producing SHAP explanations. feature_names must be string, and may not contain [, ] or <\n",
      "Continuing ...\n",
      "Exception while producing SHAP explanations. feature_names must be string, and may not contain [, ] or <\n",
      "Continuing ...\n",
      "Exception while producing SHAP explanations. feature_names must be string, and may not contain [, ] or <\n",
      "Continuing ...\n",
      "Exception while producing SHAP explanations. feature_names must be string, and may not contain [, ] or <\n",
      "Continuing ...\n",
      "4_Default_Xgboost_categorical_mix logloss 1.162557 trained in 37.64 seconds\n",
      "* Step golden_features will try to check up to 3 models\n",
      "None 10\n",
      "Add Golden Feature: understory_pct_of_building_footprint_multiply_number_of_stories\n",
      "Add Golden Feature: number_of_stories_sum_Buildinglat\n",
      "Add Golden Feature: number_of_stories_multiply_Buildinglat\n",
      "Add Golden Feature: year_built_ratio_understory_pct_of_building_footprint\n",
      "Add Golden Feature: Buildinglong_ratio_understory_pct_of_building_footprint\n",
      "Add Golden Feature: number_of_stories_ratio_understory_pct_of_building_footprint\n",
      "Add Golden Feature: number_of_stories_ratio_Buildinglat\n",
      "Add Golden Feature: Buildinglat_diff_number_of_stories\n",
      "Add Golden Feature: Buildinglat_ratio_number_of_stories\n",
      "Add Golden Feature: understory_pct_of_building_footprint_sum_number_of_stories\n",
      "Created 10 Golden Features in 0.1 seconds.\n",
      "Exception while producing SHAP explanations. feature_names must be string, and may not contain [, ] or <\n",
      "Continuing ...\n",
      "Exception while producing SHAP explanations. feature_names must be string, and may not contain [, ] or <\n",
      "Continuing ...\n",
      "Exception while producing SHAP explanations. feature_names must be string, and may not contain [, ] or <\n",
      "Continuing ...\n",
      "Exception while producing SHAP explanations. feature_names must be string, and may not contain [, ] or <\n",
      "Continuing ...\n",
      "Exception while producing SHAP explanations. feature_names must be string, and may not contain [, ] or <\n",
      "Continuing ...\n",
      "4_Default_Xgboost_categorical_mix_GoldenFeatures logloss 1.1572 trained in 38.85 seconds\n",
      "4_Default_Xgboost_GoldenFeatures logloss 1.184475 trained in 55.04 seconds\n"
     ]
    },
    {
     "name": "stderr",
     "output_type": "stream",
     "text": [
      "Tight layout not applied. The left and right margins cannot be made large enough to accommodate all axes decorations.\n",
      "Tight layout not applied. The left and right margins cannot be made large enough to accommodate all axes decorations.\n",
      "Tight layout not applied. The left and right margins cannot be made large enough to accommodate all axes decorations.\n",
      "Tight layout not applied. The left and right margins cannot be made large enough to accommodate all axes decorations.\n",
      "Tight layout not applied. The left and right margins cannot be made large enough to accommodate all axes decorations.\n"
     ]
    },
    {
     "name": "stdout",
     "output_type": "stream",
     "text": [
      "6_Default_RandomForest_GoldenFeatures logloss 1.203303 trained in 52.61 seconds\n",
      "* Step insert_random_feature will try to check up to 1 model\n",
      "4_Default_Xgboost_categorical_mix_GoldenFeatures_RandomFeature logloss 1.163504 trained in 44.77 seconds\n",
      "Drop features ['random_feature', 'Buildinglong', 'building_type', 'Buildinglat', 'wall_substrate_Not Applicable', 'wall_cladding', 'number_of_stories_ratio_Buildinglat', 'roof_system_\"Steel, joists\"', 'roof_substrate_type_Unknown', 'Buildinglat_diff_number_of_stories', 'roof_system_\"Wood, trusses\"', 'roof_cover_\"Metal, standing seam\"', 'roof_cover_Asphalt shingles (laminated)', 'roof_shape_Complex', 'roof_system_Unknown', 'year_built_ratio_understory_pct_of_building_footprint', 'foundation_type_Cast-in-place concrete piers', 'foundation_type_Wood Piers <= 8 ft', 'roof_system_\"Wood, unknown\"', 'understory_pct_of_building_footprint_multiply_number_of_stories', 'Buildinglat_ratio_number_of_stories', 'wall_structure', 'understory_pct_of_building_footprint', 'roof_cover_Asphalt shingles (3-tab)', 'roof_substrate_type_Plywood/OSB', 'foundation_type_Wood Piers > 8 ft', 'foundation_type_Slab-on-grade', 'roof_shape_Flat', 'roof_system_\"Steel, hot rolled\"', 'understory_pct_of_building_footprint_sum_number_of_stories', 'number_of_stories', 'wall_substrate_\"Wood, sheathing (continuous)\"', 'wall_substrate_\"Wood, dimensional planks\"', 'roof_shape_Hip', 'wall_substrate_Insulated foam board', 'roof_cover_Other', 'foundation_type_Reinforced masonry stem wall', 'roof_shape_Gambrel', 'roof_shape_Gable,Monoslope', 'roof_shape_Hip,Curved', 'roof_shape_Hip,Gable', 'roof_shape_Monoslope', 'foundation_type_Ground anchors and strapping', 'roof_cover_Red composite shingle', 'foundation_type_Piers <= 8 ft, unstrapped', 'foundation_type_Crawlspace', 'roof_shape_Unknown', 'foundation_type_Reinforced masonry piers', 'roof_shape_Gable,Gambrel', 'wall_substrate_\"Wood, sheathing (corners only)\"', 'wall_substrate_\"Wood, sheathing\"', 'wall_substrate_None at first floor Rc moment frame', 'roof_shape_Gable,Hip', 'foundation_type_Concrete piers support cast concrete slab on grade', 'roof_shape_Flat,Gable', 'roof_substrate_type_Plywood', 'roof_cover_\"Metal, corrugated\",\"Metal, standing seam\"', 'roof_cover_Asphalt shingles (3-tab),\"Metal, standing seam\"', 'roof_shape_Complex,Hip', 'roof_cover_Asphalt shingles (laminated),\"Metal, standing seam\"', 'roof_cover_Built-up with Gravel', 'roof_cover_Built-up without Gravel', 'roof_system_\"Steel, hot rolled\",\"Wood, unknown\"', 'foundation_type_helical anchors spaced irregulary', 'wall_substrate_None', 'roof_system_\"Steel, cold formed\",\"Steel, joists\"', 'foundation_type_Unreinforced masonry stem wall', 'wall_substrate_masonry ', 'roof_cover_composite shingles', 'wall_substrate_Thin aluminum siding', 'wall_substrate_Not Applicable,Wood Beams', 'wall_substrate_Metal panels', 'roof_system_\"Steel, cold formed\",Concrete slab', 'roof_system_\"Steel, hot rolled\",\"Steel, joists\"', 'roof_cover_Asphalt shingles (laminated),\"Metal, corrugated\"', 'roof_substrate_type_Metal deck', 'roof_cover_Metal shingles', 'roof_shape_Arch', 'roof_cover_Roll roofing', 'roof_cover_Tile Slate Roof Cover', 'roof_substrate_type_Dimensional lumber', 'roof_cover_Wood shingle', 'foundation_type_Slab on Grate and Wood Piers, unknown height', 'foundation_type_Unreinforced masonry piers', 'roof_cover_Wood shake,Wood shingle', 'roof_system_\"Wood, rafter\",\"Wood, trusses\"', 'roof_system_\"Wood, trusses\",\"Wood, rafter\"', 'roof_system_Concrete slab', 'roof_system_\"Steel, hot rolled\",Z purlins', 'roof_cover_Unknown', 'Buildinglong_ratio_understory_pct_of_building_footprint', 'roof_substrate_type_None', 'roof_shape_Complex,Gable', 'roof_system_\"Steel, cold formed\"', 'roof_cover_Clay tiles', 'roof_system_\"Wood, rafter\"', 'number_of_stories_ratio_understory_pct_of_building_footprint', 'foundation_type_Unknown', 'roof_cover_\"Metal, corrugated\"', 'roof_shape_Gable/Hip Combo', 'wall_substrate_Unknown', 'mwfrs', 'number_of_stories_multiply_Buildinglat', 'roof_shape_Gable']\n",
      "* Step features_selection will try to check up to 3 models\n",
      "4_Default_Xgboost_categorical_mix_GoldenFeatures_SelectedFeatures logloss 1.22789 trained in 46.53 seconds\n",
      "6_Default_RandomForest_SelectedFeatures logloss 1.20039 trained in 57.25 seconds\n",
      "5_Default_NeuralNetwork_SelectedFeatures logloss 2.106319 trained in 43.64 seconds\n",
      "* Step hill_climbing_1 will try to check up to 10 models\n",
      "Exception while producing SHAP explanations. feature_names must be string, and may not contain [, ] or <\n",
      "Continuing ...\n",
      "Exception while producing SHAP explanations. feature_names must be string, and may not contain [, ] or <\n",
      "Continuing ...\n",
      "Exception while producing SHAP explanations. feature_names must be string, and may not contain [, ] or <\n",
      "Continuing ...\n",
      "Exception while producing SHAP explanations. feature_names must be string, and may not contain [, ] or <\n",
      "Continuing ...\n",
      "Exception while producing SHAP explanations. feature_names must be string, and may not contain [, ] or <\n",
      "Continuing ...\n",
      "7_Xgboost_GoldenFeatures logloss 1.157177 trained in 70.16 seconds\n",
      "Exception while producing SHAP explanations. feature_names must be string, and may not contain [, ] or <\n",
      "Continuing ...\n",
      "Exception while producing SHAP explanations. feature_names must be string, and may not contain [, ] or <\n",
      "Continuing ...\n",
      "Exception while producing SHAP explanations. feature_names must be string, and may not contain [, ] or <\n",
      "Continuing ...\n",
      "Exception while producing SHAP explanations. feature_names must be string, and may not contain [, ] or <\n",
      "Continuing ...\n",
      "Exception while producing SHAP explanations. feature_names must be string, and may not contain [, ] or <\n",
      "Continuing ...\n",
      "8_Xgboost logloss 1.157496 trained in 69.85 seconds\n",
      "9_RandomForest logloss 1.197307 trained in 80.72 seconds\n",
      "10_RandomForest_SelectedFeatures logloss 1.208128 trained in 86.48 seconds\n",
      "11_DecisionTree logloss 1.318392 trained in 99.59 seconds\n",
      "12_DecisionTree logloss 1.903531 trained in 120.68 seconds\n",
      "13_NeuralNetwork logloss 1.916897 trained in 98.12 seconds\n",
      "14_NeuralNetwork logloss 1.765575 trained in 84.32 seconds\n",
      "15_NeuralNetwork_SelectedFeatures logloss 1.881448 trained in 92.77 seconds\n",
      "16_NeuralNetwork_SelectedFeatures logloss 1.828854 trained in 90.89 seconds\n",
      "* Step hill_climbing_2 will try to check up to 10 models\n",
      "Exception while producing SHAP explanations. feature_names must be string, and may not contain [, ] or <\n",
      "Continuing ...\n",
      "Exception while producing SHAP explanations. feature_names must be string, and may not contain [, ] or <\n",
      "Continuing ...\n",
      "Exception while producing SHAP explanations. feature_names must be string, and may not contain [, ] or <\n",
      "Continuing ...\n",
      "Exception while producing SHAP explanations. feature_names must be string, and may not contain [, ] or <\n",
      "Continuing ...\n",
      "Exception while producing SHAP explanations. feature_names must be string, and may not contain [, ] or <\n",
      "Continuing ...\n",
      "17_Xgboost_GoldenFeatures logloss 1.186954 trained in 111.51 seconds\n",
      "Exception while producing SHAP explanations. feature_names must be string, and may not contain [, ] or <\n",
      "Continuing ...\n",
      "Exception while producing SHAP explanations. feature_names must be string, and may not contain [, ] or <\n",
      "Continuing ...\n",
      "Exception while producing SHAP explanations. feature_names must be string, and may not contain [, ] or <\n",
      "Continuing ...\n",
      "Exception while producing SHAP explanations. feature_names must be string, and may not contain [, ] or <\n",
      "Continuing ...\n",
      "Exception while producing SHAP explanations. feature_names must be string, and may not contain [, ] or <\n",
      "Continuing ...\n",
      "18_Xgboost_GoldenFeatures logloss 1.196318 trained in 111.54 seconds\n",
      "19_RandomForest logloss 1.196651 trained in 126.58 seconds\n",
      "20_RandomForest logloss 1.219434 trained in 132.63 seconds\n",
      "21_RandomForest logloss 1.200467 trained in 143.83 seconds\n",
      "22_RandomForest logloss 1.211949 trained in 148.2 seconds\n",
      "23_NeuralNetwork logloss 1.659326 trained in 128.93 seconds\n",
      "24_NeuralNetwork logloss 1.637902 trained in 131.97 seconds\n",
      "25_NeuralNetwork_SelectedFeatures logloss 1.653497 trained in 127.9 seconds\n",
      "26_NeuralNetwork_SelectedFeatures logloss 1.752787 trained in 131.29 seconds\n",
      "* Step ensemble will try to check up to 1 model\n",
      "Ensemble logloss 1.11772 trained in 1.67 seconds\n",
      "* Step stack will try to check up to 28 models\n",
      "Exception while producing SHAP explanations. feature_names must be string, and may not contain [, ] or <\n",
      "Continuing ...\n",
      "Exception while producing SHAP explanations. feature_names must be string, and may not contain [, ] or <\n",
      "Continuing ...\n",
      "Exception while producing SHAP explanations. feature_names must be string, and may not contain [, ] or <\n",
      "Continuing ...\n",
      "Exception while producing SHAP explanations. feature_names must be string, and may not contain [, ] or <\n",
      "Continuing ...\n",
      "Exception while producing SHAP explanations. feature_names must be string, and may not contain [, ] or <\n",
      "Continuing ...\n",
      "7_Xgboost_GoldenFeatures_Stacked logloss 1.207637 trained in 180.73 seconds\n"
     ]
    },
    {
     "name": "stderr",
     "output_type": "stream",
     "text": [
      "Tight layout not applied. The left and right margins cannot be made large enough to accommodate all axes decorations.\n",
      "Tight layout not applied. The left and right margins cannot be made large enough to accommodate all axes decorations.\n",
      "Tight layout not applied. The left and right margins cannot be made large enough to accommodate all axes decorations.\n",
      "Tight layout not applied. The left and right margins cannot be made large enough to accommodate all axes decorations.\n",
      "Tight layout not applied. The left and right margins cannot be made large enough to accommodate all axes decorations.\n",
      "Tight layout not applied. The left and right margins cannot be made large enough to accommodate all axes decorations.\n",
      "Tight layout not applied. The left and right margins cannot be made large enough to accommodate all axes decorations.\n",
      "Tight layout not applied. The left and right margins cannot be made large enough to accommodate all axes decorations.\n",
      "Tight layout not applied. The left and right margins cannot be made large enough to accommodate all axes decorations.\n",
      "Tight layout not applied. The left and right margins cannot be made large enough to accommodate all axes decorations.\n"
     ]
    },
    {
     "name": "stdout",
     "output_type": "stream",
     "text": [
      "19_RandomForest_Stacked logloss 1.140339 trained in 211.34 seconds\n",
      "24_NeuralNetwork_Stacked logloss 1.533504 trained in 145.81 seconds\n",
      "Exception while producing SHAP explanations. feature_names must be string, and may not contain [, ] or <\n",
      "Continuing ...\n",
      "Exception while producing SHAP explanations. feature_names must be string, and may not contain [, ] or <\n",
      "Continuing ...\n",
      "Exception while producing SHAP explanations. feature_names must be string, and may not contain [, ] or <\n",
      "Continuing ...\n",
      "Exception while producing SHAP explanations. feature_names must be string, and may not contain [, ] or <\n",
      "Continuing ...\n",
      "Exception while producing SHAP explanations. feature_names must be string, and may not contain [, ] or <\n",
      "Continuing ...\n",
      "4_Default_Xgboost_categorical_mix_GoldenFeatures_Stacked logloss 1.217057 trained in 199.45 seconds\n"
     ]
    },
    {
     "name": "stderr",
     "output_type": "stream",
     "text": [
      "Tight layout not applied. The left and right margins cannot be made large enough to accommodate all axes decorations.\n",
      "Tight layout not applied. The left and right margins cannot be made large enough to accommodate all axes decorations.\n",
      "Tight layout not applied. The left and right margins cannot be made large enough to accommodate all axes decorations.\n",
      "Tight layout not applied. The left and right margins cannot be made large enough to accommodate all axes decorations.\n",
      "Tight layout not applied. The left and right margins cannot be made large enough to accommodate all axes decorations.\n",
      "Tight layout not applied. The left and right margins cannot be made large enough to accommodate all axes decorations.\n",
      "Tight layout not applied. The left and right margins cannot be made large enough to accommodate all axes decorations.\n",
      "Tight layout not applied. The left and right margins cannot be made large enough to accommodate all axes decorations.\n",
      "Tight layout not applied. The left and right margins cannot be made large enough to accommodate all axes decorations.\n",
      "Tight layout not applied. The left and right margins cannot be made large enough to accommodate all axes decorations.\n"
     ]
    },
    {
     "name": "stdout",
     "output_type": "stream",
     "text": [
      "9_RandomForest_Stacked logloss 1.141128 trained in 228.49 seconds\n",
      "* Step ensemble_stacked will try to check up to 1 model\n",
      "Ensemble_Stacked logloss 1.111778 trained in 2.19 seconds\n",
      "AutoML fit time: 3715.77 seconds\n",
      "AutoML best model: Ensemble_Stacked\n"
     ]
    },
    {
     "data": {
      "text/plain": "AutoML(explain_level=2, features_selection=True, golden_features=True,\n       hill_climbing_steps=2, mix_encoding=True,\n       ml_task='multiclass_classification', results_path='2022_8_5_full-class',\n       stack_models=True, top_models_to_improve=2,\n       validation_strategy={'k_folds': 5, 'shuffle': True, 'stratify': True,\n                            'validation_type': 'kfold'})",
      "text/html": "<style>#sk-container-id-1 {color: black;background-color: white;}#sk-container-id-1 pre{padding: 0;}#sk-container-id-1 div.sk-toggleable {background-color: white;}#sk-container-id-1 label.sk-toggleable__label {cursor: pointer;display: block;width: 100%;margin-bottom: 0;padding: 0.3em;box-sizing: border-box;text-align: center;}#sk-container-id-1 label.sk-toggleable__label-arrow:before {content: \"▸\";float: left;margin-right: 0.25em;color: #696969;}#sk-container-id-1 label.sk-toggleable__label-arrow:hover:before {color: black;}#sk-container-id-1 div.sk-estimator:hover label.sk-toggleable__label-arrow:before {color: black;}#sk-container-id-1 div.sk-toggleable__content {max-height: 0;max-width: 0;overflow: hidden;text-align: left;background-color: #f0f8ff;}#sk-container-id-1 div.sk-toggleable__content pre {margin: 0.2em;color: black;border-radius: 0.25em;background-color: #f0f8ff;}#sk-container-id-1 input.sk-toggleable__control:checked~div.sk-toggleable__content {max-height: 200px;max-width: 100%;overflow: auto;}#sk-container-id-1 input.sk-toggleable__control:checked~label.sk-toggleable__label-arrow:before {content: \"▾\";}#sk-container-id-1 div.sk-estimator input.sk-toggleable__control:checked~label.sk-toggleable__label {background-color: #d4ebff;}#sk-container-id-1 div.sk-label input.sk-toggleable__control:checked~label.sk-toggleable__label {background-color: #d4ebff;}#sk-container-id-1 input.sk-hidden--visually {border: 0;clip: rect(1px 1px 1px 1px);clip: rect(1px, 1px, 1px, 1px);height: 1px;margin: -1px;overflow: hidden;padding: 0;position: absolute;width: 1px;}#sk-container-id-1 div.sk-estimator {font-family: monospace;background-color: #f0f8ff;border: 1px dotted black;border-radius: 0.25em;box-sizing: border-box;margin-bottom: 0.5em;}#sk-container-id-1 div.sk-estimator:hover {background-color: #d4ebff;}#sk-container-id-1 div.sk-parallel-item::after {content: \"\";width: 100%;border-bottom: 1px solid gray;flex-grow: 1;}#sk-container-id-1 div.sk-label:hover label.sk-toggleable__label {background-color: #d4ebff;}#sk-container-id-1 div.sk-serial::before {content: \"\";position: absolute;border-left: 1px solid gray;box-sizing: border-box;top: 0;bottom: 0;left: 50%;z-index: 0;}#sk-container-id-1 div.sk-serial {display: flex;flex-direction: column;align-items: center;background-color: white;padding-right: 0.2em;padding-left: 0.2em;position: relative;}#sk-container-id-1 div.sk-item {position: relative;z-index: 1;}#sk-container-id-1 div.sk-parallel {display: flex;align-items: stretch;justify-content: center;background-color: white;position: relative;}#sk-container-id-1 div.sk-item::before, #sk-container-id-1 div.sk-parallel-item::before {content: \"\";position: absolute;border-left: 1px solid gray;box-sizing: border-box;top: 0;bottom: 0;left: 50%;z-index: -1;}#sk-container-id-1 div.sk-parallel-item {display: flex;flex-direction: column;z-index: 1;position: relative;background-color: white;}#sk-container-id-1 div.sk-parallel-item:first-child::after {align-self: flex-end;width: 50%;}#sk-container-id-1 div.sk-parallel-item:last-child::after {align-self: flex-start;width: 50%;}#sk-container-id-1 div.sk-parallel-item:only-child::after {width: 0;}#sk-container-id-1 div.sk-dashed-wrapped {border: 1px dashed gray;margin: 0 0.4em 0.5em 0.4em;box-sizing: border-box;padding-bottom: 0.4em;background-color: white;}#sk-container-id-1 div.sk-label label {font-family: monospace;font-weight: bold;display: inline-block;line-height: 1.2em;}#sk-container-id-1 div.sk-label-container {text-align: center;}#sk-container-id-1 div.sk-container {/* jupyter's `normalize.less` sets `[hidden] { display: none; }` but bootstrap.min.css set `[hidden] { display: none !important; }` so we also need the `!important` here to be able to override the default hidden behavior on the sphinx rendered scikit-learn.org. See: https://github.com/scikit-learn/scikit-learn/issues/21755 */display: inline-block !important;position: relative;}#sk-container-id-1 div.sk-text-repr-fallback {display: none;}</style><div id=\"sk-container-id-1\" class=\"sk-top-container\"><div class=\"sk-text-repr-fallback\"><pre>AutoML(explain_level=2, features_selection=True, golden_features=True,\n       hill_climbing_steps=2, mix_encoding=True,\n       ml_task=&#x27;multiclass_classification&#x27;, results_path=&#x27;2022_8_5_full-class&#x27;,\n       stack_models=True, top_models_to_improve=2,\n       validation_strategy={&#x27;k_folds&#x27;: 5, &#x27;shuffle&#x27;: True, &#x27;stratify&#x27;: True,\n                            &#x27;validation_type&#x27;: &#x27;kfold&#x27;})</pre><b>In a Jupyter environment, please rerun this cell to show the HTML representation or trust the notebook. <br />On GitHub, the HTML representation is unable to render, please try loading this page with nbviewer.org.</b></div><div class=\"sk-container\" hidden><div class=\"sk-item\"><div class=\"sk-estimator sk-toggleable\"><input class=\"sk-toggleable__control sk-hidden--visually\" id=\"sk-estimator-id-1\" type=\"checkbox\" checked><label for=\"sk-estimator-id-1\" class=\"sk-toggleable__label sk-toggleable__label-arrow\">AutoML</label><div class=\"sk-toggleable__content\"><pre>AutoML(explain_level=2, features_selection=True, golden_features=True,\n       hill_climbing_steps=2, mix_encoding=True,\n       ml_task=&#x27;multiclass_classification&#x27;, results_path=&#x27;2022_8_5_full-class&#x27;,\n       stack_models=True, top_models_to_improve=2,\n       validation_strategy={&#x27;k_folds&#x27;: 5, &#x27;shuffle&#x27;: True, &#x27;stratify&#x27;: True,\n                            &#x27;validation_type&#x27;: &#x27;kfold&#x27;})</pre></div></div></div></div></div>"
     },
     "execution_count": 9,
     "metadata": {},
     "output_type": "execute_result"
    }
   ],
   "source": [
    "automl = AutoML(\n",
    "    results_path='2022_8_5_full-class',\n",
    "    ml_task='multiclass_classification',\n",
    "    #ml_task = 'regression',\n",
    "   #algorithms=[\"CatBoost\", \"Xgboost\", \"LightGBM\", \"Random Forest\", \"Linear\", \"Decision Tree\"],\n",
    "    explain_level= 2,\n",
    "    hill_climbing_steps=2,\n",
    "    top_models_to_improve=2,\n",
    "    golden_features=True, #on / off when needed\n",
    "    features_selection=True,\n",
    "    stack_models=True,\n",
    "    train_ensemble=True,\n",
    "    mix_encoding=True,\n",
    "    validation_strategy={\n",
    "        \"validation_type\": \"kfold\",\n",
    "        \"k_folds\": 5,\n",
    "        \"shuffle\": True,\n",
    "        \"stratify\": True,\n",
    "    }\n",
    ")\n",
    "\n",
    "automl.fit(X_train, y_train)\n"
   ],
   "metadata": {
    "collapsed": false,
    "pycharm": {
     "name": "#%%\n"
    }
   }
  },
  {
   "cell_type": "code",
   "execution_count": 8,
   "outputs": [],
   "source": [
    "predictions = automl.predict(X_test)\n"
   ],
   "metadata": {
    "collapsed": false,
    "pycharm": {
     "name": "#%%\n"
    }
   }
  },
  {
   "cell_type": "code",
   "execution_count": 9,
   "outputs": [],
   "source": [
    "\n",
    "predict_all = automl.predict_all(X_test)"
   ],
   "metadata": {
    "collapsed": false,
    "pycharm": {
     "name": "#%%\n"
    }
   }
  },
  {
   "cell_type": "code",
   "execution_count": 10,
   "outputs": [
    {
     "data": {
      "text/plain": "0.48755980394611287"
     },
     "execution_count": 10,
     "metadata": {},
     "output_type": "execute_result"
    }
   ],
   "source": [
    "\n",
    "score = automl.score(X_test, y_test)\n",
    "score\n"
   ],
   "metadata": {
    "collapsed": false,
    "pycharm": {
     "name": "#%%\n"
    }
   }
  },
  {
   "cell_type": "code",
   "execution_count": 11,
   "outputs": [
    {
     "data": {
      "text/plain": "     prediction\n0      2.142661\n1      2.540641\n2      1.945785\n3      1.618312\n4      1.401410\n..          ...\n143    1.589508\n144    0.925429\n145    2.968555\n146    1.506323\n147    2.305603\n\n[148 rows x 1 columns]",
      "text/html": "<div>\n<style scoped>\n    .dataframe tbody tr th:only-of-type {\n        vertical-align: middle;\n    }\n\n    .dataframe tbody tr th {\n        vertical-align: top;\n    }\n\n    .dataframe thead th {\n        text-align: right;\n    }\n</style>\n<table border=\"1\" class=\"dataframe\">\n  <thead>\n    <tr style=\"text-align: right;\">\n      <th></th>\n      <th>prediction</th>\n    </tr>\n  </thead>\n  <tbody>\n    <tr>\n      <th>0</th>\n      <td>2.142661</td>\n    </tr>\n    <tr>\n      <th>1</th>\n      <td>2.540641</td>\n    </tr>\n    <tr>\n      <th>2</th>\n      <td>1.945785</td>\n    </tr>\n    <tr>\n      <th>3</th>\n      <td>1.618312</td>\n    </tr>\n    <tr>\n      <th>4</th>\n      <td>1.401410</td>\n    </tr>\n    <tr>\n      <th>...</th>\n      <td>...</td>\n    </tr>\n    <tr>\n      <th>143</th>\n      <td>1.589508</td>\n    </tr>\n    <tr>\n      <th>144</th>\n      <td>0.925429</td>\n    </tr>\n    <tr>\n      <th>145</th>\n      <td>2.968555</td>\n    </tr>\n    <tr>\n      <th>146</th>\n      <td>1.506323</td>\n    </tr>\n    <tr>\n      <th>147</th>\n      <td>2.305603</td>\n    </tr>\n  </tbody>\n</table>\n<p>148 rows × 1 columns</p>\n</div>"
     },
     "execution_count": 11,
     "metadata": {},
     "output_type": "execute_result"
    }
   ],
   "source": [
    "predict_all"
   ],
   "metadata": {
    "collapsed": false,
    "pycharm": {
     "name": "#%%\n"
    }
   }
  },
  {
   "cell_type": "code",
   "execution_count": null,
   "outputs": [],
   "source": [],
   "metadata": {
    "collapsed": false,
    "pycharm": {
     "name": "#%%\n"
    }
   }
  }
 ],
 "metadata": {
  "kernelspec": {
   "display_name": "Python 3",
   "language": "python",
   "name": "python3"
  },
  "language_info": {
   "codemirror_mode": {
    "name": "ipython",
    "version": 2
   },
   "file_extension": ".py",
   "mimetype": "text/x-python",
   "name": "python",
   "nbconvert_exporter": "python",
   "pygments_lexer": "ipython2",
   "version": "2.7.6"
  }
 },
 "nbformat": 4,
 "nbformat_minor": 0
}