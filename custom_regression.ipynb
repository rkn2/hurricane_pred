{
 "cells": [
  {
   "cell_type": "code",
   "execution_count": 12,
   "outputs": [],
   "source": [
    "# pip install mljar-supervised\n",
    "#or\n",
    "# conda install -c conda-forge mljar-supervised\n",
    "# pip install requests\n",
    "\n",
    "import requests\n",
    "import re\n",
    "import pandas as pd\n",
    "from sklearn.model_selection import train_test_split\n",
    "from supervised.automl import AutoML\n",
    "\n"
   ],
   "metadata": {
    "collapsed": false,
    "pycharm": {
     "name": "#%%\n"
    }
   }
  },
  {
   "cell_type": "code",
   "execution_count": 2,
   "outputs": [],
   "source": [
    "#get data\n",
    "url = 'https://pennstateoffice365-my.sharepoint.com/:x:/g/personal/rjn5308_psu_edu/EZ-qWOeA5jxNkKXpwdWk_CoB-rCxrvsYcdhHaqzLfWruAQ?e=6inkuL&download=1'\n",
    "r = requests.get(url)\n",
    "r.status_code\n",
    "with open('data.csv', 'w') as fid:\n",
    "    fid.write(r.text)\n",
    "\n",
    "#read data into pandas and view\n",
    "data = pd.read_csv('data_og.csv')"
   ],
   "metadata": {
    "collapsed": false,
    "pycharm": {
     "name": "#%%\n"
    }
   }
  },
  {
   "cell_type": "code",
   "execution_count": 13,
   "outputs": [],
   "source": [
    "# on plane\n",
    "#read data into pandas and view\n",
    "data = pd.read_csv('data_og.csv')"
   ],
   "metadata": {
    "collapsed": false,
    "pycharm": {
     "name": "#%%\n"
    }
   }
  },
  {
   "cell_type": "code",
   "execution_count": 14,
   "outputs": [],
   "source": [
    "data = data.rename(columns = lambda x:re.sub('[^A-Za-z0-9_]+', '', x)) # issue with json\n",
    "data.fillna(method=\"ffill\", inplace=True)\n",
    "#data.dropna(inplace=True) # NEW"
   ],
   "metadata": {
    "collapsed": false,
    "pycharm": {
     "name": "#%%\n"
    }
   }
  },
  {
   "cell_type": "code",
   "execution_count": 15,
   "outputs": [],
   "source": [
    "y = data['status']\n",
    "#X = data.drop('status', axis=1, inplace=False)\n",
    "\n",
    "X = data\n",
    "dropList = ['wind_damage_rating', 'surge_damage_rating', 'rainwater_ingress_damage_rating', 'Unnamed0', 'longitude', 'status']\n",
    "for each in dropList:\n",
    "    X = X.drop(each, axis=1)"
   ],
   "metadata": {
    "collapsed": false,
    "pycharm": {
     "name": "#%%\n"
    }
   }
  },
  {
   "cell_type": "code",
   "execution_count": 16,
   "outputs": [
    {
     "data": {
      "text/plain": "Index(['Buildinglat', 'hazards_present', 'building_type', 'number_of_stories',\n       'understory_pct_of_building_footprint', 'year_built', 'roof_shape',\n       'mwfrs', 'foundation_type', 'wall_structure', 'wall_substrate',\n       'wall_cladding', 'roof_system', 'roof_substrate_type', 'roof_cover',\n       'Buildinglong', 'mindist'],\n      dtype='object')"
     },
     "execution_count": 16,
     "metadata": {},
     "output_type": "execute_result"
    }
   ],
   "source": [
    "X.columns"
   ],
   "metadata": {
    "collapsed": false,
    "pycharm": {
     "name": "#%%\n"
    }
   }
  },
  {
   "cell_type": "code",
   "execution_count": 17,
   "outputs": [],
   "source": [
    "# X.describe()\n",
    "X_train, X_test, y_train, y_test = train_test_split(X, y,test_size=0.2, random_state=42, stratify=y)"
   ],
   "metadata": {
    "collapsed": false,
    "pycharm": {
     "name": "#%%\n"
    }
   }
  },
  {
   "cell_type": "code",
   "execution_count": 18,
   "outputs": [
    {
     "data": {
      "text/plain": "<AxesSubplot:>"
     },
     "execution_count": 18,
     "metadata": {},
     "output_type": "execute_result"
    },
    {
     "data": {
      "text/plain": "<Figure size 432x288 with 1 Axes>",
      "image/png": "[encoded data removed]"
     },
     "metadata": {
      "needs_background": "light"
     },
     "output_type": "display_data"
    }
   ],
   "source": [
    "y_train.value_counts().plot(kind='bar',color='green')\n",
    "y_test.value_counts().plot(kind='bar', color='blue')"
   ],
   "metadata": {
    "collapsed": false,
    "pycharm": {
     "name": "#%%\n"
    }
   }
  },
  {
   "cell_type": "code",
   "execution_count": null,
   "outputs": [
    {
     "name": "stdout",
     "output_type": "stream",
     "text": [
      "AutoML directory: 2022_7_22_full-class\n",
      "The task is multiclass_classification with evaluation metric logloss\n",
      "AutoML will use algorithms: ['Baseline', 'Linear', 'Decision Tree', 'Random Forest', 'Xgboost', 'Neural Network']\n",
      "AutoML will stack models\n",
      "AutoML will ensemble available models\n",
      "AutoML steps: ['simple_algorithms', 'default_algorithms', 'mix_encoding', 'golden_features', 'insert_random_feature', 'features_selection', 'hill_climbing_1', 'hill_climbing_2', 'ensemble', 'stack', 'ensemble_stacked']\n",
      "* Step simple_algorithms will try to check up to 3 models\n",
      "1_Baseline logloss 1.501979 trained in 14.26 seconds\n"
     ]
    },
    {
     "name": "stderr",
     "output_type": "stream",
     "text": [
      "pandas.Int64Index is deprecated and will be removed from pandas in a future version. Use pandas.Index with the appropriate dtype instead.\n",
      "pandas.Int64Index is deprecated and will be removed from pandas in a future version. Use pandas.Index with the appropriate dtype instead.\n",
      "pandas.Int64Index is deprecated and will be removed from pandas in a future version. Use pandas.Index with the appropriate dtype instead.\n",
      "pandas.Int64Index is deprecated and will be removed from pandas in a future version. Use pandas.Index with the appropriate dtype instead.\n",
      "pandas.Int64Index is deprecated and will be removed from pandas in a future version. Use pandas.Index with the appropriate dtype instead.\n",
      "pandas.Int64Index is deprecated and will be removed from pandas in a future version. Use pandas.Index with the appropriate dtype instead.\n",
      "pandas.Int64Index is deprecated and will be removed from pandas in a future version. Use pandas.Index with the appropriate dtype instead.\n",
      "pandas.Int64Index is deprecated and will be removed from pandas in a future version. Use pandas.Index with the appropriate dtype instead.\n"
     ]
    },
    {
     "name": "stdout",
     "output_type": "stream",
     "text": [
      "2_DecisionTree logloss 1.586101 trained in 41.23 seconds\n",
      "3_Linear logloss 1.390655 trained in 28.92 seconds\n",
      "* Step default_algorithms will try to check up to 3 models\n",
      "4_Default_Xgboost logloss 1.184888 trained in 154.07 seconds\n",
      "5_Default_NeuralNetwork logloss 2.052843 trained in 21.43 seconds\n",
      "6_Default_RandomForest logloss 1.199217 trained in 77.35 seconds\n",
      "* Step mix_encoding will try to check up to 1 model\n",
      "Exception while producing SHAP explanations. feature_names must be string, and may not contain [, ] or <\n",
      "Continuing ...\n",
      "Exception while producing SHAP explanations. feature_names must be string, and may not contain [, ] or <\n",
      "Continuing ...\n",
      "Exception while producing SHAP explanations. feature_names must be string, and may not contain [, ] or <\n",
      "Continuing ...\n",
      "Exception while producing SHAP explanations. feature_names must be string, and may not contain [, ] or <\n",
      "Continuing ...\n",
      "Exception while producing SHAP explanations. feature_names must be string, and may not contain [, ] or <\n",
      "Continuing ...\n",
      "4_Default_Xgboost_categorical_mix logloss 1.162557 trained in 98.06 seconds\n",
      "* Step golden_features will try to check up to 3 models\n",
      "None 10\n",
      "Add Golden Feature: understory_pct_of_building_footprint_multiply_number_of_stories\n",
      "Add Golden Feature: number_of_stories_sum_Buildinglat\n",
      "Add Golden Feature: number_of_stories_multiply_Buildinglat\n",
      "Add Golden Feature: year_built_ratio_understory_pct_of_building_footprint\n",
      "Add Golden Feature: Buildinglong_ratio_understory_pct_of_building_footprint\n",
      "Add Golden Feature: number_of_stories_ratio_understory_pct_of_building_footprint\n",
      "Add Golden Feature: number_of_stories_ratio_Buildinglat\n",
      "Add Golden Feature: Buildinglat_diff_number_of_stories\n",
      "Add Golden Feature: Buildinglat_ratio_number_of_stories\n",
      "Add Golden Feature: understory_pct_of_building_footprint_sum_number_of_stories\n",
      "Created 10 Golden Features in 0.3 seconds.\n",
      "Exception while producing SHAP explanations. feature_names must be string, and may not contain [, ] or <\n",
      "Continuing ...\n",
      "Exception while producing SHAP explanations. feature_names must be string, and may not contain [, ] or <\n",
      "Continuing ...\n",
      "Exception while producing SHAP explanations. feature_names must be string, and may not contain [, ] or <\n",
      "Continuing ...\n",
      "Exception while producing SHAP explanations. feature_names must be string, and may not contain [, ] or <\n",
      "Continuing ...\n",
      "Exception while producing SHAP explanations. feature_names must be string, and may not contain [, ] or <\n",
      "Continuing ...\n",
      "4_Default_Xgboost_categorical_mix_GoldenFeatures logloss 1.1572 trained in 51.74 seconds\n"
     ]
    }
   ],
   "source": [
    "automl = AutoML(\n",
    "    results_path='2022_7_22_full-class',\n",
    "    ml_task='multiclass_classification',\n",
    "    #ml_task = 'regression',\n",
    "   #algorithms=[\"CatBoost\", \"Xgboost\", \"LightGBM\", \"Random Forest\", \"Linear\", \"Decision Tree\"],\n",
    "    explain_level= 2,\n",
    "    hill_climbing_steps=2,\n",
    "    top_models_to_improve=2,\n",
    "    golden_features=True, #on / off when needed\n",
    "    features_selection=True,\n",
    "    stack_models=True,\n",
    "    train_ensemble=True,\n",
    "    mix_encoding=True,\n",
    "    validation_strategy={\n",
    "        \"validation_type\": \"kfold\",\n",
    "        \"k_folds\": 5,\n",
    "        \"shuffle\": True,\n",
    "        \"stratify\": True,\n",
    "    }\n",
    ")\n",
    "\n",
    "automl.fit(X_train, y_train)\n"
   ],
   "metadata": {
    "collapsed": false,
    "pycharm": {
     "name": "#%%\n",
     "is_executing": true
    }
   }
  },
  {
   "cell_type": "code",
   "execution_count": 8,
   "outputs": [],
   "source": [
    "predictions = automl.predict(X_test)\n"
   ],
   "metadata": {
    "collapsed": false,
    "pycharm": {
     "name": "#%%\n"
    }
   }
  },
  {
   "cell_type": "code",
   "execution_count": 9,
   "outputs": [],
   "source": [
    "\n",
    "predict_all = automl.predict_all(X_test)"
   ],
   "metadata": {
    "collapsed": false,
    "pycharm": {
     "name": "#%%\n"
    }
   }
  },
  {
   "cell_type": "code",
   "execution_count": 10,
   "outputs": [
    {
     "data": {
      "text/plain": "0.48755980394611287"
     },
     "execution_count": 10,
     "metadata": {},
     "output_type": "execute_result"
    }
   ],
   "source": [
    "\n",
    "score = automl.score(X_test, y_test)\n",
    "score\n"
   ],
   "metadata": {
    "collapsed": false,
    "pycharm": {
     "name": "#%%\n"
    }
   }
  },
  {
   "cell_type": "code",
   "execution_count": 11,
   "outputs": [
    {
     "data": {
      "text/plain": "     prediction\n0      2.142661\n1      2.540641\n2      1.945785\n3      1.618312\n4      1.401410\n..          ...\n143    1.589508\n144    0.925429\n145    2.968555\n146    1.506323\n147    2.305603\n\n[148 rows x 1 columns]",
      "text/html": "<div>\n<style scoped>\n    .dataframe tbody tr th:only-of-type {\n        vertical-align: middle;\n    }\n\n    .dataframe tbody tr th {\n        vertical-align: top;\n    }\n\n    .dataframe thead th {\n        text-align: right;\n    }\n</style>\n<table border=\"1\" class=\"dataframe\">\n  <thead>\n    <tr style=\"text-align: right;\">\n      <th></th>\n      <th>prediction</th>\n    </tr>\n  </thead>\n  <tbody>\n    <tr>\n      <th>0</th>\n      <td>2.142661</td>\n    </tr>\n    <tr>\n      <th>1</th>\n      <td>2.540641</td>\n    </tr>\n    <tr>\n      <th>2</th>\n      <td>1.945785</td>\n    </tr>\n    <tr>\n      <th>3</th>\n      <td>1.618312</td>\n    </tr>\n    <tr>\n      <th>4</th>\n      <td>1.401410</td>\n    </tr>\n    <tr>\n      <th>...</th>\n      <td>...</td>\n    </tr>\n    <tr>\n      <th>143</th>\n      <td>1.589508</td>\n    </tr>\n    <tr>\n      <th>144</th>\n      <td>0.925429</td>\n    </tr>\n    <tr>\n      <th>145</th>\n      <td>2.968555</td>\n    </tr>\n    <tr>\n      <th>146</th>\n      <td>1.506323</td>\n    </tr>\n    <tr>\n      <th>147</th>\n      <td>2.305603</td>\n    </tr>\n  </tbody>\n</table>\n<p>148 rows × 1 columns</p>\n</div>"
     },
     "execution_count": 11,
     "metadata": {},
     "output_type": "execute_result"
    }
   ],
   "source": [
    "predict_all"
   ],
   "metadata": {
    "collapsed": false,
    "pycharm": {
     "name": "#%%\n"
    }
   }
  },
  {
   "cell_type": "code",
   "execution_count": null,
   "outputs": [],
   "source": [],
   "metadata": {
    "collapsed": false,
    "pycharm": {
     "name": "#%%\n"
    }
   }
  }
 ],
 "metadata": {
  "kernelspec": {
   "display_name": "Python 3",
   "language": "python",
   "name": "python3"
  },
  "language_info": {
   "codemirror_mode": {
    "name": "ipython",
    "version": 2
   },
   "file_extension": ".py",
   "mimetype": "text/x-python",
   "name": "python",
   "nbconvert_exporter": "python",
   "pygments_lexer": "ipython2",
   "version": "2.7.6"
  }
 },
 "nbformat": 4,
 "nbformat_minor": 0
}